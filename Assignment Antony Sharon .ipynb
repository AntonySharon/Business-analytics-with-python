{
  "nbformat": 4,
  "nbformat_minor": 0,
  "metadata": {
    "colab": {
      "name": "Assignment.ipynb",
      "provenance": []
    },
    "kernelspec": {
      "name": "python3",
      "display_name": "Python 3"
    },
    "language_info": {
      "name": "python"
    }
  },
  "cells": [
    {
      "cell_type": "code",
      "execution_count": 7,
      "metadata": {
        "colab": {
          "base_uri": "https://localhost:8080/"
        },
        "id": "7jEOpNXkdLaX",
        "outputId": "702db106-8455-4529-c858-8bcc10d3f9f4"
      },
      "outputs": [
        {
          "output_type": "stream",
          "name": "stdout",
          "text": [
            "Tax amount payable is:  8100.0\n"
          ]
        }
      ],
      "source": [
        "x=[\"John\",\"Adam\",29,340000,250000,9]\n",
        "tax=x[5]\n",
        "sal=x[3]\n",
        "re=x[4]\n",
        "amt=(sal-re)*(tax/100)\n",
        "print(\"Tax amount payable is: \",amt)\n",
        "\n"
      ]
    },
    {
      "cell_type": "code",
      "source": [
        ""
      ],
      "metadata": {
        "id": "7cnmOmkYftCx"
      },
      "execution_count": null,
      "outputs": []
    }
  ]
}