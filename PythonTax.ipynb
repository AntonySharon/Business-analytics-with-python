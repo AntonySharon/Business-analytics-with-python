{
  "nbformat": 4,
  "nbformat_minor": 0,
  "metadata": {
    "colab": {
      "name": "PythonTax.ipynb",
      "provenance": []
    },
    "kernelspec": {
      "name": "python3",
      "display_name": "Python 3"
    },
    "language_info": {
      "name": "python"
    }
  },
  "cells": [
    {
      "cell_type": "code",
      "execution_count": 4,
      "metadata": {
        "colab": {
          "base_uri": "https://localhost:8080/"
        },
        "id": "bhYCZjmZNS-s",
        "outputId": "588facd2-db9f-4b51-a304-8a61eaa6b65f"
      },
      "outputs": [
        {
          "output_type": "stream",
          "name": "stdout",
          "text": [
            "enter 1st number:8\n",
            "enter 2nd number:2\n",
            "10\n",
            "6\n",
            "4.0\n",
            "16\n"
          ]
        }
      ],
      "source": [
        "x=int(input(\"enter 1st number:\"))\n",
        "y=int(input(\"enter 2nd number:\"))\n",
        "print(x+y)\n",
        "print(x-y)\n",
        "print(x/y)\n",
        "print(x*y)"
      ]
    },
    {
      "cell_type": "code",
      "source": [
        "p=int(input(\"enter principal amount :\"))\n",
        "n=int(input(\"enter no. of yrs :\"))\n",
        "r=int(input(\"enter rate :\"))\n",
        "r=r/100\n",
        "i=p*n*r\n",
        "print(\"interest :\",i)"
      ],
      "metadata": {
        "colab": {
          "base_uri": "https://localhost:8080/"
        },
        "id": "XqPFpaoqTdiW",
        "outputId": "5a07a68d-b48b-461b-9e56-d2f50f280148"
      },
      "execution_count": 8,
      "outputs": [
        {
          "output_type": "stream",
          "name": "stdout",
          "text": [
            "enter principal amount :10000\n",
            "enter no. of yrs :5\n",
            "enter rate :8\n",
            "interest : 4000.0\n"
          ]
        }
      ]
    },
    {
      "cell_type": "code",
      "source": [
        "x=int(input(\"enter your marks :\"))\n",
        "if x>50:\n",
        "  print('you are passed')\n",
        "if x<50:\n",
        "  print('you are failed')"
      ],
      "metadata": {
        "colab": {
          "base_uri": "https://localhost:8080/"
        },
        "id": "kAfOB_0AUGgv",
        "outputId": "b87901a5-91ff-4422-ce60-ff88655da6b4"
      },
      "execution_count": 14,
      "outputs": [
        {
          "output_type": "stream",
          "name": "stdout",
          "text": [
            "enter your marks :1000\n",
            "you are passed\n"
          ]
        }
      ]
    },
    {
      "cell_type": "code",
      "source": [
        "s=int(input(\"enter salary: \"))\n",
        "if s>250000:\n",
        "  print(\"you r taxable\")\n",
        "  print(\"tax amount payable :\",s*(10/100))\n",
        "else:\n",
        "  print(\"not taxable\")"
      ],
      "metadata": {
        "colab": {
          "base_uri": "https://localhost:8080/"
        },
        "id": "PzWZVKaoYjGH",
        "outputId": "6f3cfcf8-b798-4eb8-9200-83df694e0ddf"
      },
      "execution_count": 18,
      "outputs": [
        {
          "output_type": "stream",
          "name": "stdout",
          "text": [
            "enter salary: 250001\n",
            "you r taxable\n",
            "tax amount payable : 25000.100000000002\n"
          ]
        }
      ]
    },
    {
      "cell_type": "code",
      "source": [
        "s=int(input(\"enter salary: \"))\n",
        "x=s\n",
        "if s>=300000:\n",
        "  print(\"you r taxable\")\n",
        "  print(\"tax amount payable :\",(x-250000)*(10/100))\n",
        "else:\n",
        "  print(\"not taxable\")"
      ],
      "metadata": {
        "colab": {
          "base_uri": "https://localhost:8080/"
        },
        "id": "wbceL-LNapoA",
        "outputId": "2452ecbc-93ec-46ae-b4fa-5b1b1c87cf16"
      },
      "execution_count": 29,
      "outputs": [
        {
          "output_type": "stream",
          "name": "stdout",
          "text": [
            "enter salary: 300000\n",
            "you r taxable\n",
            "tax amount payable : 5000.0\n"
          ]
        }
      ]
    },
    {
      "cell_type": "code",
      "source": [
        "s=int(input(\"enter salary: \"))\n",
        "x=s\n",
        "if s>=300000 and s<500000:\n",
        "  print(\"you r taxable\")\n",
        "  print(\"tax amount payable :\",(x-250000)*(10/100))\n",
        "elif  s>500000:\n",
        "  print(\"you r taxable\")\n",
        "  print(\"tax amount payable :\",(x-250000)*(20/100))\n",
        "else:\n",
        "  print(\"not taxable\")"
      ],
      "metadata": {
        "colab": {
          "base_uri": "https://localhost:8080/"
        },
        "id": "1-1z94CHitur",
        "outputId": "ed0f8e8b-8379-4063-dd5d-9a3e6546635b"
      },
      "execution_count": 28,
      "outputs": [
        {
          "output_type": "stream",
          "name": "stdout",
          "text": [
            "enter salary: 600000\n",
            "you r taxable\n",
            "tax amount payable : 70000.0\n"
          ]
        }
      ]
    },
    {
      "cell_type": "code",
      "source": [
        ""
      ],
      "metadata": {
        "id": "wgzmtRkbj0cc"
      },
      "execution_count": null,
      "outputs": []
    }
  ]
}