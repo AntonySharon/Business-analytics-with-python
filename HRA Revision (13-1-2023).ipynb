{
  "nbformat": 4,
  "nbformat_minor": 0,
  "metadata": {
    "colab": {
      "provenance": [],
      "authorship_tag": "ABX9TyP8fRWgrX44QrBW9CdImqPu",
      "include_colab_link": true
    },
    "kernelspec": {
      "name": "python3",
      "display_name": "Python 3"
    },
    "language_info": {
      "name": "python"
    }
  },
  "cells": [
    {
      "cell_type": "markdown",
      "metadata": {
        "id": "view-in-github",
        "colab_type": "text"
      },
      "source": [
        "<a href=\"https://colab.research.google.com/github/AntonySharon/Business-analytics-with-python/blob/main/HRA%20Revision%20(13-1-2023).ipynb\" target=\"_parent\"><img src=\"https://colab.research.google.com/assets/colab-badge.svg\" alt=\"Open In Colab\"/></a>"
      ]
    },
    {
      "cell_type": "code",
      "execution_count": null,
      "metadata": {
        "colab": {
          "base_uri": "https://localhost:8080/"
        },
        "id": "ZCEEuMhUE0_f",
        "outputId": "ec20687c-aefc-4a5f-9625-72c6bd287299"
      },
      "outputs": [
        {
          "output_type": "stream",
          "name": "stdout",
          "text": [
            "Enter your mark : 70\n",
            "You have passed\n"
          ]
        }
      ],
      "source": [
        "x=int(input(\"Enter your mark : \"))\n",
        "if x>50:\n",
        "  print(\"You have passed\")\n",
        "if x<50:\n",
        "  print(\"You have failed\")\n",
        "if x==50:\n",
        "  print(\"You have just passed\")"
      ]
    },
    {
      "cell_type": "code",
      "source": [
        "x=int(input(\"Enter your salary : \"))\n",
        "if x>=250000:\n",
        "  print(\"You are taxable\")\n",
        "if x<250000:\n",
        "  print(\"You are not taxable\")"
      ],
      "metadata": {
        "colab": {
          "base_uri": "https://localhost:8080/"
        },
        "id": "hb2t0WDgNlcD",
        "outputId": "4c2b428a-40a3-4c35-fc43-21f3810b8068"
      },
      "execution_count": null,
      "outputs": [
        {
          "output_type": "stream",
          "name": "stdout",
          "text": [
            "Enter your salary : 250001\n",
            "You are taxable\n"
          ]
        }
      ]
    },
    {
      "cell_type": "code",
      "source": [
        "'''\n",
        "If amount <= Rs. 2,50,000 then zero tax.\n",
        "If amount <= Rs. 5,00,000 then 5%  \n",
        "If amount <= Rs. 7,50,000 then  10% of total income exceeding Rs. 5,00,000\n",
        "If amount <= Rs. 10,00,000 then  15% of total income exceeding Rs. 7,50,000\n",
        "If amount <= Rs. 12,50,000 then  20% of total income exceeding Rs. 10,00,000\n",
        "If amount <= Rs. 15,00,000 then 25% of total income exceeding Rs. 12,50,000\n",
        "If amount > Rs. 15,00,000 then 30% of total income exceeding Rs. 15,00,000\n",
        "'''"
      ],
      "metadata": {
        "id": "qx5iNWz1LBgG"
      },
      "execution_count": null,
      "outputs": []
    },
    {
      "cell_type": "code",
      "source": [
        "s=int(input(\"Enter your salary: \"))\n",
        "if s<250000:\n",
        "  print(\"You are not taxable\")\n",
        "if s>250000 and s<=500000:\n",
        "  a=s-250000\n",
        "  tax=(a*5)/100\n",
        "  print(\"You are taxable\")\n",
        "  print(\"Tax payable\",tax)\n",
        "if s>500000 and s<=750000:\n",
        "  a=s-500000\n",
        "  t=(a*10)/100\n",
        "  t1=t+12500  \n",
        "  print(\"You are taxable\")\n",
        "  print(\"Tax payable\",t1)\n",
        "if s>750000 and s<=1000000:\n",
        "  a=s-750000\n",
        "  t=(a*15)/100\n",
        "  t1=t+12500+25000\n",
        "  print(\"You are taxable\")\n",
        "  print(\"Tax payable\",t1)\n",
        "if s>1000000 and s<=1250000:\n",
        "  a=s-1000000\n",
        "  t=(a*20)/100\n",
        "  t1=t+12500+25000+37500\n",
        "  print(\"You are taxable\")\n",
        "  print(\"Tax payable\",t1)\n",
        "if s>1250000 and s<=1500000:\n",
        "  a=s-1250000\n",
        "  t=(a*25)/100\n",
        "  t1=t+12500+25000+37500+50000\n",
        "  print(\"You are taxable\")\n",
        "  print(\"Tax payable\",t1)\n",
        "if s>1500000:\n",
        "  a=s-1500000\n",
        "  t=(a*30)/100\n",
        "  t1=t+12500+25000+37500+50000+62500\n",
        "  print(\"You are taxable\")\n",
        "  print(\"Tax payable\",t1)"
      ],
      "metadata": {
        "colab": {
          "base_uri": "https://localhost:8080/"
        },
        "id": "mYrucbREOrVo",
        "outputId": "21e209b7-b3b3-4354-f485-c60441e7d55a"
      },
      "execution_count": 1,
      "outputs": [
        {
          "output_type": "stream",
          "name": "stdout",
          "text": [
            "Enter your salary: 1300000\n",
            "You are taxable\n",
            "Tax payable 137500.0\n"
          ]
        }
      ]
    },
    {
      "cell_type": "code",
      "source": [
        "x=int(input(\"Enter Actual HRA (per month) :\"))\n",
        "y=int(input(\"Enter HRA paid (per month) :\"))\n",
        "z=int(input(\"Enter basic salary (per month) :\"))\n",
        "a=x*12\n",
        "b=(y*12)-((z*12)*(10/100))\n",
        "c=(50/100)*(z*12)\n",
        "if  a<=b and a<=c:\n",
        "  t1=a*(10/100)\n",
        "  print(\"Tax payable is: \",t1)\n",
        "elif  b<=a and b<=c:\n",
        "  t1=b*(10/100)\n",
        "  print(\"Tax payable is: \",t1)\n",
        "elif  c<=a and c<=b:\n",
        "  t1=c*(10/100)\n",
        "  print(\"Tax payable is: \",t1)\n",
        "else:\n",
        "  print(\"Not Applicable\")"
      ],
      "metadata": {
        "id": "m963E7UxjzBS",
        "colab": {
          "base_uri": "https://localhost:8080/"
        },
        "outputId": "101fd6cc-c594-4ca0-f86f-49860c2653fc"
      },
      "execution_count": 21,
      "outputs": [
        {
          "output_type": "stream",
          "name": "stdout",
          "text": [
            "Enter Actual HRA (per month) :1000\n",
            "Enter HRA paid (per month) :800\n",
            "Enter basic salary (per month) :1500\n",
            "Tax payable is:  780.0\n"
          ]
        }
      ]
    },
    {
      "cell_type": "code",
      "source": [
        "x=int(input(\"Enter Actual HRA (per month) :\"))\n",
        "y=int(input(\"Enter HRA paid (per month) :\"))\n",
        "z=int(input(\"Enter basic salary (per month) :\"))\n",
        "a1=x*12\n",
        "b1=(y*12)-((z*12)*(10/100))\n",
        "c1=(50/100)*(z*12)\n",
        "if  a1<=b1 and a1<=c1:\n",
        "  l1=a1\n",
        "  tax=a1*(10/100)\n",
        "  print(\"Tax payable is: \",tax)\n",
        "elif  b1<=a1 and b1<=c1:\n",
        "  l1=b1\n",
        "  tax=b1*(10/100)\n",
        "  print(\"Tax payable is: \",tax)\n",
        "elif  c1<=a1 and c1<=b1:\n",
        "  l1=c1\n",
        "  tax=c1*(10/100)\n",
        "  print(\"Tax payable is: \",tax)\n",
        "#else:\n",
        "  #print(\"Not Applicable\")\n",
        "if l1>=150000:\n",
        "  l1=150000\n",
        "\n",
        "s=a1+c1-l1\n",
        "if s<250000:\n",
        "  print(\"You are not taxable\")\n",
        "if s>250000 and s<=500000:\n",
        "  a=s-250000\n",
        "  tax=(a*5)/100\n",
        "  print(\"You are taxable\")\n",
        "  print(\"Tax payable\",tax)\n",
        "if s>500000 and s<=750000:\n",
        "  a=s-500000\n",
        "  t=(a*10)/100\n",
        "  t1=t+12500  \n",
        "  print(\"You are taxable\")\n",
        "  print(\"Tax payable\",t1)\n",
        "if s>750000 and s<=1000000:\n",
        "  a=s-750000\n",
        "  t=(a*15)/100\n",
        "  t1=t+12500+25000\n",
        "  print(\"You are taxable\")\n",
        "  print(\"Tax payable\",t1)\n",
        "if s>1000000 and s<=1250000:\n",
        "  a=s-1000000\n",
        "  t=(a*20)/100\n",
        "  t1=t+12500+25000+37500\n",
        "  print(\"You are taxable\")\n",
        "  print(\"Tax payable\",t1)\n",
        "if s>1250000 and s<=1500000:\n",
        "  a=s-1250000\n",
        "  t=(a*25)/100\n",
        "  t1=t+12500+25000+37500+50000\n",
        "  print(\"You are taxable\")\n",
        "  print(\"Tax payable\",t1)\n",
        "if s>1500000:\n",
        "  a=s-1500000\n",
        "  t=(a*30)/100\n",
        "  t1=t+12500+25000+37500+50000+62500\n",
        "  print(\"You are taxable\")\n",
        "  print(\"Tax payable\",t1)\n"
      ],
      "metadata": {
        "colab": {
          "base_uri": "https://localhost:8080/"
        },
        "id": "c74Mf55qYdAh",
        "outputId": "52343a7d-e123-4b94-e290-b3bfd22479e6"
      },
      "execution_count": 22,
      "outputs": [
        {
          "output_type": "stream",
          "name": "stdout",
          "text": [
            "Enter Actual HRA (per month) :1000000\n",
            "Enter HRA paid (per month) :800000\n",
            "Enter basic salary (per month) :1500000\n",
            "Tax payable is:  780000.0\n",
            "You are taxable\n",
            "Tax payable 5992500.0\n"
          ]
        }
      ]
    },
    {
      "cell_type": "code",
      "source": [],
      "metadata": {
        "id": "X8XMgqEVjaXR"
      },
      "execution_count": null,
      "outputs": []
    }
  ]
}