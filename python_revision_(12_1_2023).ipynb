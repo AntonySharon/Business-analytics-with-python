{
  "nbformat": 4,
  "nbformat_minor": 0,
  "metadata": {
    "colab": {
      "provenance": [],
      "authorship_tag": "ABX9TyNYsGd0bf3LHC4w0Cg0422Z",
      "include_colab_link": true
    },
    "kernelspec": {
      "name": "python3",
      "display_name": "Python 3"
    },
    "language_info": {
      "name": "python"
    }
  },
  "cells": [
    {
      "cell_type": "markdown",
      "metadata": {
        "id": "view-in-github",
        "colab_type": "text"
      },
      "source": [
        "<a href=\"https://colab.research.google.com/github/AntonySharon/Business-analytics-with-python/blob/main/python_revision_(12_1_2023).ipynb\" target=\"_parent\"><img src=\"https://colab.research.google.com/assets/colab-badge.svg\" alt=\"Open In Colab\"/></a>"
      ]
    },
    {
      "cell_type": "code",
      "execution_count": null,
      "metadata": {
        "colab": {
          "base_uri": "https://localhost:8080/"
        },
        "id": "ZCEEuMhUE0_f",
        "outputId": "ec20687c-aefc-4a5f-9625-72c6bd287299"
      },
      "outputs": [
        {
          "output_type": "stream",
          "name": "stdout",
          "text": [
            "Enter your mark : 70\n",
            "You have passed\n"
          ]
        }
      ],
      "source": [
        "x=int(input(\"Enter your mark : \"))\n",
        "if x>50:\n",
        "  print(\"You have passed\")\n",
        "if x<50:\n",
        "  print(\"You have failed\")\n",
        "if x==50:\n",
        "  print(\"You have just passed\")"
      ]
    },
    {
      "cell_type": "code",
      "source": [
        "x=int(input(\"Enter your salary : \"))\n",
        "if x>=250000:\n",
        "  print(\"You are taxable\")\n",
        "if x<250000:\n",
        "  print(\"You are not taxable\")"
      ],
      "metadata": {
        "colab": {
          "base_uri": "https://localhost:8080/"
        },
        "id": "hb2t0WDgNlcD",
        "outputId": "4c2b428a-40a3-4c35-fc43-21f3810b8068"
      },
      "execution_count": null,
      "outputs": [
        {
          "output_type": "stream",
          "name": "stdout",
          "text": [
            "Enter your salary : 250001\n",
            "You are taxable\n"
          ]
        }
      ]
    },
    {
      "cell_type": "code",
      "source": [
        "'''\n",
        "If amount <= Rs. 2,50,000 then zero tax.\n",
        "If amount <= Rs. 5,00,000 then 5%  \n",
        "If amount <= Rs. 7,50,000 then  10% of total income exceeding Rs. 5,00,000\n",
        "If amount <= Rs. 10,00,000 then  15% of total income exceeding Rs. 7,50,000\n",
        "If amount <= Rs. 12,50,000 then  20% of total income exceeding Rs. 10,00,000\n",
        "If amount <= Rs. 15,00,000 then 25% of total income exceeding Rs. 12,50,000\n",
        "If amount > Rs. 15,00,000 then 30% of total income exceeding Rs. 15,00,000\n",
        "'''"
      ],
      "metadata": {
        "id": "qx5iNWz1LBgG"
      },
      "execution_count": null,
      "outputs": []
    },
    {
      "cell_type": "code",
      "source": [
        "s=int(input(\"Enter your salary: \"))\n",
        "if s<250000:\n",
        "  print(\"You are not taxable\")\n",
        "if s>250000 and s<=500000:\n",
        "  a=s-250000\n",
        "  tax=(a*5)/100\n",
        "  print(\"You are taxable\")\n",
        "  print(\"Tax payable\",tax)\n",
        "if s>500000 and s<=750000:\n",
        "  a=s-500000\n",
        "  t=(a*10)/100\n",
        "  t1=t+12500  \n",
        "  print(\"You are taxable\")\n",
        "  print(\"Tax payable\",t1)\n",
        "if s>750000 and s<=1000000:\n",
        "  a=s-750000\n",
        "  t=(a*15)/100\n",
        "  t1=t+12500+25000\n",
        "  print(\"You are taxable\")\n",
        "  print(\"Tax payable\",t1)\n",
        "if s>1000000 and s<=1250000:\n",
        "  a=s-1000000\n",
        "  t=(a*20)/100\n",
        "  t1=t+12500+25000+37500\n",
        "  print(\"You are taxable\")\n",
        "  print(\"Tax payable\",t1)\n",
        "if s>1250000 and s<=1500000:\n",
        "  a=s-1250000\n",
        "  t=(a*25)/100\n",
        "  t1=t+12500+25000+37500+50000\n",
        "  print(\"You are taxable\")\n",
        "  print(\"Tax payable\",t1)\n",
        "if s>1500000:\n",
        "  a=s-1500000\n",
        "  t=(a*30)/100\n",
        "  t1=t+12500+25000+37500+50000+62500\n",
        "  print(\"You are taxable\")\n",
        "  print(\"Tax payable\",t1)"
      ],
      "metadata": {
        "colab": {
          "base_uri": "https://localhost:8080/"
        },
        "id": "mYrucbREOrVo",
        "outputId": "77bc8d34-ce81-4a99-8cbf-2589b9af073b"
      },
      "execution_count": 23,
      "outputs": [
        {
          "output_type": "stream",
          "name": "stdout",
          "text": [
            "Enter your salary: 1700000\n",
            "You are taxable\n",
            "Tax payable 247500.0\n"
          ]
        }
      ]
    },
    {
      "cell_type": "code",
      "source": [],
      "metadata": {
        "id": "m963E7UxjzBS"
      },
      "execution_count": null,
      "outputs": []
    }
  ]
}