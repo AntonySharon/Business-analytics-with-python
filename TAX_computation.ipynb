{
  "nbformat": 4,
  "nbformat_minor": 0,
  "metadata": {
    "colab": {
      "name": "TAX computation.ipynb",
      "provenance": []
    },
    "kernelspec": {
      "name": "python3",
      "display_name": "Python 3"
    },
    "language_info": {
      "name": "python"
    }
  },
  "cells": [
    {
      "cell_type": "code",
      "execution_count": null,
      "metadata": {
        "colab": {
          "base_uri": "https://localhost:8080/"
        },
        "id": "_m_Uyw_dRWdp",
        "outputId": "fa234d76-2763-4e07-c668-a5188d033f64"
      },
      "outputs": [
        {
          "output_type": "stream",
          "name": "stdout",
          "text": [
            "Enter Salary: 800000\n",
            "Tax amount payable is:  47500.0\n"
          ]
        }
      ],
      "source": [
        "sal=int(input(\"Enter Salary: \"))\n",
        "'''hra=int(input(\"Enter HRA: \"))\n",
        "sa=int(input(\"Enter Special allowance: \"))\n",
        "lta=int(input(\"Enter LTA: \"))'''\n",
        "if sal<=250000:\n",
        "  print(\"NO TAX!!!!!!!\")\n",
        "elif sal>250000 and sal<=500000:\n",
        "  t=(sal-250000)*(5/100)\n",
        "  print(\"Tax amount payable is: \",t)\n",
        "elif sal>500000 and sal<=750000:\n",
        "  t=250000*(5/100)+(sal-250000)*(10/100)\n",
        "  print(\"Tax amount payable is: \",t)\n",
        "elif sal>750000 and sal<=1000000:\n",
        "  t=250000*(5/100)+250000*(10/100)+(sal-750000)*(20/100)\n",
        "  print(\"Tax amount payable is: \",t)\n",
        "elif sal>1000000:\n",
        "  t=250000*(5/100)+250000*(10/100)+(sal-250000)*(20/100)*(sal-1000000)*(30/100)\n",
        "  print(\"Tax amount payable is: \",t)"
      ]
    },
    {
      "cell_type": "code",
      "source": [
        "sal=int(input(\"Enter Salary: \"))\n",
        "hra=int(input(\"Enter HRA: \"))\n",
        "''''sa=int(input(\"Enter Special allowance: \"))\n",
        "lta=int(input(\"Enter LTA: \"))'''\n",
        "if hra>sal:\n",
        "  if sal<=250000:\n",
        "    print(\"NO TAX!!!!!!!\")\n",
        "  elif sal>250000 and sal<=500000:\n",
        "    t=(sal-250000)*(5/100)\n",
        "    h=(hra-250000)*(5/100)\n",
        "    print(\"SALARY TAX: \",t)\n",
        "    print(\"HRA TAX: \",h)\n",
        "  elif sal>500000 and sal<=750000:\n",
        "    t=250000*(5/100)+(sal-250000)*(10/100)\n",
        "    h=250000*(5/100)+(hra-250000)*(10/100)\n",
        "    print(\"SALARY TAX: \",t)\n",
        "    print(\"HRA TAX: \",h)\n",
        "  elif sal>750000 and sal<=1000000:\n",
        "    t=250000*(5/100)+250000*(10/100)+(sal-750000)*(20/100)\n",
        "    h=250000*(5/100)+250000*(10/100)+(hra-750000)*(20/100)\n",
        "    print(\"SALARY TAX: \",t)\n",
        "    print(\"HRA TAX: \",h)\n",
        "  elif sal>1000000:\n",
        "    t=250000*(5/100)+250000*(10/100)+(sal-250000)*(20/100)*(sal-1000000)*(30/100)\n",
        "    h=250000*(5/100)+250000*(10/100)+(hra-250000)*(20/100)*(hra-1000000)*(30/100)\n",
        "    print(\"SALARY TAX: \",t)\n",
        "    print(\"HRA TAX: \",h)\n",
        "elif hra<sal:\n",
        "  h=hra*(10/100)\n",
        "  print('HRA TAX: ',h)\n",
        "  if sal<=250000:\n",
        "    print(\"NO TAX!!!!!!!\")\n",
        "  elif sal>250000 and sal<=500000:\n",
        "    t=(sal-250000)*(5/100)\n",
        "    print(\"Tax amount payable is: \",t)\n",
        "  elif sal>500000 and sal<=750000:\n",
        "    t=250000*(5/100)+(sal-250000)*(10/100)\n",
        "    print(\"Tax amount payable is: \",t)\n",
        "  elif sal>750000 and sal<=1000000:\n",
        "    t=250000*(5/100)+250000*(10/100)+(sal-750000)*(20/100)\n",
        "    print(\"Tax amount payable is: \",t)\n",
        "  elif sal>1000000:\n",
        "    t=250000*(5/100)+250000*(10/100)+(sal-250000)*(20/100)*(sal-1000000)*(30/100)\n",
        "    print(\"Tax amount payable is: \",t)"
      ],
      "metadata": {
        "id": "eS-3Ld6-U7H_",
        "colab": {
          "base_uri": "https://localhost:8080/"
        },
        "outputId": "3d75a9a5-ef68-43db-b3ec-2408282e0531"
      },
      "execution_count": 19,
      "outputs": [
        {
          "output_type": "stream",
          "name": "stdout",
          "text": [
            "Enter Salary: 100000\n",
            "Enter HRA: 50000\n",
            "HRA TAX:  5000.0\n",
            "NO TAX!!!!!!!\n"
          ]
        }
      ]
    }
  ]
}