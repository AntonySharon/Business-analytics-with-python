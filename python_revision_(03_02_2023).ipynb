{
  "nbformat": 4,
  "nbformat_minor": 0,
  "metadata": {
    "colab": {
      "provenance": [],
      "authorship_tag": "ABX9TyNpuDPUSCn0T53/E1COpzvR",
      "include_colab_link": true
    },
    "kernelspec": {
      "name": "python3",
      "display_name": "Python 3"
    },
    "language_info": {
      "name": "python"
    }
  },
  "cells": [
    {
      "cell_type": "markdown",
      "metadata": {
        "id": "view-in-github",
        "colab_type": "text"
      },
      "source": [
        "<a href=\"https://colab.research.google.com/github/AntonySharon/Business-analytics-with-python/blob/main/python_revision_(03_02_2023).ipynb\" target=\"_parent\"><img src=\"https://colab.research.google.com/assets/colab-badge.svg\" alt=\"Open In Colab\"/></a>"
      ]
    },
    {
      "cell_type": "code",
      "execution_count": null,
      "metadata": {
        "id": "mD6v9iNJZfuL"
      },
      "outputs": [],
      "source": [
        "def list1(x):\n",
        "  s=0\n",
        "  for i in x:\n",
        "    s+=i\n",
        "  print(\"Sum of no.: \",s)"
      ]
    },
    {
      "cell_type": "code",
      "source": [
        "x=[1,2,3,4,5]\n",
        "list1(x)"
      ],
      "metadata": {
        "colab": {
          "base_uri": "https://localhost:8080/"
        },
        "id": "cGO1FMKzZ1Xj",
        "outputId": "e19726b1-114c-41a7-b356-448dd2dec3ed"
      },
      "execution_count": null,
      "outputs": [
        {
          "output_type": "stream",
          "name": "stdout",
          "text": [
            "Sum of no.:  15\n"
          ]
        }
      ]
    },
    {
      "cell_type": "code",
      "source": [
        "def eve(x):\n",
        "  e=[]\n",
        "  for i in x:\n",
        "    if i%2==0:\n",
        "      if i!=0:\n",
        "        e.append(i)\n",
        "  print(\"Even nos. are: \",e)\n",
        "  \n",
        "\n",
        "def odd(x):\n",
        "  od=[]\n",
        "  for i in x:\n",
        "    if i%2!=0:\n",
        "      od.append(i)\n",
        "  print(\"Odd nos. are: \",od)"
      ],
      "metadata": {
        "id": "HY5duQt8a3XD"
      },
      "execution_count": null,
      "outputs": []
    },
    {
      "cell_type": "code",
      "source": [
        "x=[0,1,2,3,4,5,6,7,8,9,10]\n",
        "eve(x)\n",
        "odd(x)"
      ],
      "metadata": {
        "colab": {
          "base_uri": "https://localhost:8080/"
        },
        "id": "3RKEQt6Ic-Pe",
        "outputId": "974dd191-1c7e-495a-8d6a-99cca3d7665c"
      },
      "execution_count": null,
      "outputs": [
        {
          "output_type": "stream",
          "name": "stdout",
          "text": [
            "Even nos. are:  [2, 4, 6, 8, 10]\n",
            "Odd nos. are:  [1, 3, 5, 7, 9]\n"
          ]
        }
      ]
    },
    {
      "cell_type": "code",
      "source": [
        "def vow(t):\n",
        "  l=[]\n",
        "  s=\"\"\n",
        "  c=0\n",
        "  for i in range(len(t)):\n",
        "    l.append(t[i])\n",
        "  for j in range(len(l)):\n",
        "    if l[j]=='e' or l[j]==\"E\" or l[j]==\"u\" or l[j]==\"U\":\n",
        "      c+=1\n",
        "  for j in range(0,len(l)-(c-1)):\n",
        "    if l[j]=='e' or l[j]==\"E\" or l[j]==\"u\" or l[j]==\"U\":\n",
        "      del l[j]\n",
        "    else:\n",
        "      continue\n",
        "  for i in range(len(l)):\n",
        "    s+=l[i]\n",
        "  print(\"Sentence without 'e' or 'u' is: \",s)"
      ],
      "metadata": {
        "id": "bQmm1nNddGp9"
      },
      "execution_count": null,
      "outputs": []
    },
    {
      "cell_type": "code",
      "source": [
        "t=\"Python is a high-level, general-purpose programming language\"\n",
        "vow(t)"
      ],
      "metadata": {
        "colab": {
          "base_uri": "https://localhost:8080/"
        },
        "id": "lbVqITHhfCTF",
        "outputId": "60683965-150c-4ec7-dca5-4a5972ebda91"
      },
      "execution_count": null,
      "outputs": [
        {
          "output_type": "stream",
          "name": "stdout",
          "text": [
            "Sentence without 'e' or 'u' is:  Python is a high-lvl, gnral-prpos programming langag\n"
          ]
        }
      ]
    },
    {
      "cell_type": "code",
      "source": [
        "def vow(t):\n",
        "  a=\"Python is a high-level, general-purpose programming language\"\n",
        "  b=''\n",
        "  for i in a:\n",
        "      if i not in['a','e','i','o','u']:\n",
        "          b=b+i\n",
        "  print(\"Sentence without vowels is: \",b)"
      ],
      "metadata": {
        "id": "rAMdcJYHOmpy"
      },
      "execution_count": 5,
      "outputs": []
    },
    {
      "cell_type": "code",
      "source": [
        "t=\"Python is a high-level, general-purpose programming language\"\n",
        "vow(t)"
      ],
      "metadata": {
        "colab": {
          "base_uri": "https://localhost:8080/"
        },
        "outputId": "d7eae23a-cde3-4ab6-8233-3649714e3ded",
        "id": "FmF4PrQ3Or05"
      },
      "execution_count": 6,
      "outputs": [
        {
          "output_type": "stream",
          "name": "stdout",
          "text": [
            "Sentence without vowels is:  Pythn s  hgh-lvl, gnrl-prps prgrmmng lngg\n"
          ]
        }
      ]
    },
    {
      "cell_type": "code",
      "source": [],
      "metadata": {
        "id": "zRw_WWENPBtF"
      },
      "execution_count": null,
      "outputs": []
    }
  ]
}