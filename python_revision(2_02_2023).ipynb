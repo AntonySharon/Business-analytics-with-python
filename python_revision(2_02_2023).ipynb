{
  "nbformat": 4,
  "nbformat_minor": 0,
  "metadata": {
    "colab": {
      "provenance": [],
      "authorship_tag": "ABX9TyMfNX/j37GFQPpXJJxeqb1i",
      "include_colab_link": true
    },
    "kernelspec": {
      "name": "python3",
      "display_name": "Python 3"
    },
    "language_info": {
      "name": "python"
    }
  },
  "cells": [
    {
      "cell_type": "markdown",
      "metadata": {
        "id": "view-in-github",
        "colab_type": "text"
      },
      "source": [
        "<a href=\"https://colab.research.google.com/github/AntonySharon/Business-analytics-with-python/blob/main/python_revision(2_02_2023).ipynb\" target=\"_parent\"><img src=\"https://colab.research.google.com/assets/colab-badge.svg\" alt=\"Open In Colab\"/></a>"
      ]
    },
    {
      "cell_type": "code",
      "execution_count": 1,
      "metadata": {
        "id": "RuVWyLknPPdL"
      },
      "outputs": [],
      "source": [
        "def anto():\n",
        "  print(\"India is my country\")"
      ]
    },
    {
      "cell_type": "code",
      "source": [
        "anto()"
      ],
      "metadata": {
        "colab": {
          "base_uri": "https://localhost:8080/"
        },
        "id": "wwEdpdkFQGWE",
        "outputId": "83eb665d-f7a0-4bc2-b030-63de19f2e402"
      },
      "execution_count": 2,
      "outputs": [
        {
          "output_type": "stream",
          "name": "stdout",
          "text": [
            "India is my country\n"
          ]
        }
      ]
    },
    {
      "cell_type": "code",
      "source": [
        "def anto(x):\n",
        "  print(\"Your roll no. is: \",x)"
      ],
      "metadata": {
        "id": "FmVYqUfDQPc3"
      },
      "execution_count": 3,
      "outputs": []
    },
    {
      "cell_type": "code",
      "source": [
        "x=int(input(\"Enter your roll no.\"))\n",
        "anto(x)"
      ],
      "metadata": {
        "colab": {
          "base_uri": "https://localhost:8080/"
        },
        "id": "LytmLyvZRpGi",
        "outputId": "99c5ddf7-7a81-4a86-d613-b46c74492889"
      },
      "execution_count": 4,
      "outputs": [
        {
          "output_type": "stream",
          "name": "stdout",
          "text": [
            "Enter your roll no.10\n",
            "Your roll no. is:  10\n"
          ]
        }
      ]
    },
    {
      "cell_type": "code",
      "source": [
        "def anto(a,b,c,d):\n",
        "  print(\"Your Name is: \",a)\n",
        "  print(\"Your roll no. is: \",b)\n",
        "  print(\"Your email is: \",c)\n",
        "  print(\"Your place is: \",d)"
      ],
      "metadata": {
        "id": "1zzEU9T0RttE"
      },
      "execution_count": 5,
      "outputs": []
    },
    {
      "cell_type": "code",
      "source": [
        "n=input(\"Enter your name: \")\n",
        "x=int(input(\"Enter your roll no.: \"))\n",
        "y=input(\"Enter your email: \")\n",
        "z=input(\"Enter your place: \")\n",
        "anto(n,x,y,z)"
      ],
      "metadata": {
        "colab": {
          "base_uri": "https://localhost:8080/"
        },
        "id": "GCeAkSaISNdn",
        "outputId": "5ad3789c-f0c5-47d0-fcb1-3b466f07b373"
      },
      "execution_count": 6,
      "outputs": [
        {
          "output_type": "stream",
          "name": "stdout",
          "text": [
            "Enter your name: Antony Sharon\n",
            "Enter your roll no.: 10\n",
            "Enter your email: 123@gmail.com\n",
            "Enter your place: Kochi\n",
            "Your Name is:  Antony Sharon\n",
            "Your roll no. is:  10\n",
            "Your email is:  123@gmail.com\n",
            "Your place is:  Kochi\n"
          ]
        }
      ]
    },
    {
      "cell_type": "code",
      "source": [
        "def name(a):\n",
        "  print(\"Your first name is: \",a)\n",
        "def name1(b):\n",
        "  print(\"Your second name is: \",b)"
      ],
      "metadata": {
        "id": "vjop5Y3CTZ1R"
      },
      "execution_count": 59,
      "outputs": []
    },
    {
      "cell_type": "code",
      "source": [
        "a=input(\"Enter your name: \")\n",
        "s=a.split()\n",
        "b=list(s)\n",
        "n=len(s)\n",
        "t=[]\n",
        "u=[]\n",
        "for i in s:\n",
        "  t+=s[0]\n",
        "  u+=s[1]\n",
        "'''for i in range(n):\n",
        "  t+=str(s[n-2])\n",
        "  u+=str(s[n-1])'''\n",
        "  \n",
        "name(t)\n",
        "name1(u)"
      ],
      "metadata": {
        "colab": {
          "base_uri": "https://localhost:8080/"
        },
        "id": "5Ha3RLekV7Rc",
        "outputId": "263ca6a5-37e8-485d-c4f7-3c0a8acafb08"
      },
      "execution_count": 71,
      "outputs": [
        {
          "output_type": "stream",
          "name": "stdout",
          "text": [
            "Enter your name: antony sharon\n",
            "Your first name is:  ['a', 'n', 't', 'o', 'n', 'y', 'a', 'n', 't', 'o', 'n', 'y']\n",
            "Your second name is:  ['s', 'h', 'a', 'r', 'o', 'n', 's', 'h', 'a', 'r', 'o', 'n']\n"
          ]
        }
      ]
    },
    {
      "cell_type": "code",
      "source": [
        "s\n",
        "type(s)"
      ],
      "metadata": {
        "colab": {
          "base_uri": "https://localhost:8080/"
        },
        "id": "q7wyRaEggg7d",
        "outputId": "069fb695-6508-4a8e-9e1f-8817f5633810"
      },
      "execution_count": 74,
      "outputs": [
        {
          "output_type": "execute_result",
          "data": {
            "text/plain": [
              "list"
            ]
          },
          "metadata": {},
          "execution_count": 74
        }
      ]
    },
    {
      "cell_type": "code",
      "source": [
        "s[0]"
      ],
      "metadata": {
        "colab": {
          "base_uri": "https://localhost:8080/",
          "height": 35
        },
        "id": "IU2rGhAjgkHd",
        "outputId": "5fffb7bd-9063-401d-9b04-46fae286a440"
      },
      "execution_count": 73,
      "outputs": [
        {
          "output_type": "execute_result",
          "data": {
            "text/plain": [
              "'antony'"
            ],
            "application/vnd.google.colaboratory.intrinsic+json": {
              "type": "string"
            }
          },
          "metadata": {},
          "execution_count": 73
        }
      ]
    },
    {
      "cell_type": "code",
      "source": [
        "def name(x):\n",
        "  print(\"Your first name is: \",x[0])\n",
        "def name1(x):\n",
        "  print(\"Your second name is: \",x[1])"
      ],
      "metadata": {
        "id": "Bku5qnbff5yR"
      },
      "execution_count": 58,
      "outputs": []
    },
    {
      "cell_type": "code",
      "source": [
        "a=input(\"Enter your name: \")\n",
        "s=a.split(\" \")\n",
        "name(s)\n",
        "name1(s)"
      ],
      "metadata": {
        "colab": {
          "base_uri": "https://localhost:8080/"
        },
        "id": "SdWTnxpvc0OV",
        "outputId": "65bbeb8f-a8ab-4522-dd47-75cc31f9f464"
      },
      "execution_count": 53,
      "outputs": [
        {
          "output_type": "stream",
          "name": "stdout",
          "text": [
            "Enter your name: antony sharon\n",
            "Your first name is:  antony\n",
            "Your second name is:  sharon\n"
          ]
        }
      ]
    },
    {
      "cell_type": "code",
      "source": [
        "def swap(a,b):\n",
        "  a,b=b,a\n",
        "  print(\"swap no. is: \",a)\n",
        "  print(\"swap no. is: \",b)"
      ],
      "metadata": {
        "id": "JqgEnleFenbn"
      },
      "execution_count": 76,
      "outputs": []
    },
    {
      "cell_type": "code",
      "source": [
        "n1=int(input(\"Enter one no.: \"))\n",
        "n2=int(input(\"Enter another no.: \"))\n",
        "swap(n1,n2)"
      ],
      "metadata": {
        "colab": {
          "base_uri": "https://localhost:8080/"
        },
        "id": "fl6t61-3dZSE",
        "outputId": "a417944a-bbe0-48c7-811a-6a3450c7da99"
      },
      "execution_count": 77,
      "outputs": [
        {
          "output_type": "stream",
          "name": "stdout",
          "text": [
            "Enter one no.: 10\n",
            "Enter another no.: 20\n",
            "swap no. is:  20\n",
            "swap no. is:  10\n"
          ]
        }
      ]
    },
    {
      "cell_type": "code",
      "source": [
        "def pos(a):\n",
        "  x=0\n",
        "  a1=()\n",
        "  b1=()\n",
        "  while x>0:\n",
        "    \n",
        "  print(\"number after changing position is: \",a)"
      ],
      "metadata": {
        "id": "IONP_47ie7JV"
      },
      "execution_count": 75,
      "outputs": []
    },
    {
      "cell_type": "code",
      "source": [
        "n1=int(input(\"Enter one no.: \"))\n",
        "pos(n1)"
      ],
      "metadata": {
        "id": "z95SKbbthrtE"
      },
      "execution_count": null,
      "outputs": []
    }
  ]
}