{
  "nbformat": 4,
  "nbformat_minor": 0,
  "metadata": {
    "colab": {
      "provenance": [],
      "authorship_tag": "ABX9TyNZO9SIM1lkB8z51wINVDK4",
      "include_colab_link": true
    },
    "kernelspec": {
      "name": "python3",
      "display_name": "Python 3"
    },
    "language_info": {
      "name": "python"
    }
  },
  "cells": [
    {
      "cell_type": "markdown",
      "metadata": {
        "id": "view-in-github",
        "colab_type": "text"
      },
      "source": [
        "<a href=\"https://colab.research.google.com/github/AntonySharon/Business-analytics-with-python/blob/main/python_revision_(30_01_2023).ipynb\" target=\"_parent\"><img src=\"https://colab.research.google.com/assets/colab-badge.svg\" alt=\"Open In Colab\"/></a>"
      ]
    },
    {
      "cell_type": "code",
      "execution_count": 1,
      "metadata": {
        "colab": {
          "base_uri": "https://localhost:8080/"
        },
        "id": "VC1KPz9sxHUk",
        "outputId": "29076cce-167c-421e-f86b-9df893c3fcdd"
      },
      "outputs": [
        {
          "output_type": "stream",
          "name": "stdout",
          "text": [
            "This is \"Python\" programming\n"
          ]
        }
      ],
      "source": [
        "x=\"This is \\\"Python\\\" programming\"\n",
        "print(x)"
      ]
    },
    {
      "cell_type": "code",
      "source": [
        "x='He\\'s a doctor'\n",
        "print(x)"
      ],
      "metadata": {
        "colab": {
          "base_uri": "https://localhost:8080/"
        },
        "id": "BHjONS53xlsu",
        "outputId": "b83c9815-1684-4e17-ddaa-962b7d8c126f"
      },
      "execution_count": 4,
      "outputs": [
        {
          "output_type": "stream",
          "name": "stdout",
          "text": [
            "He's a doctor\n"
          ]
        }
      ]
    },
    {
      "cell_type": "code",
      "source": [
        "x=\"Hello\\nWorld!\"\n",
        "print(x)"
      ],
      "metadata": {
        "colab": {
          "base_uri": "https://localhost:8080/"
        },
        "id": "uB-1PkHOx5qo",
        "outputId": "4785cee2-13e4-4b6e-f5e1-912252e76877"
      },
      "execution_count": 5,
      "outputs": [
        {
          "output_type": "stream",
          "name": "stdout",
          "text": [
            "Hello\n",
            "World!\n"
          ]
        }
      ]
    },
    {
      "cell_type": "code",
      "source": [
        "x=\"Hello\\tWorld!\"\n",
        "print(x)"
      ],
      "metadata": {
        "colab": {
          "base_uri": "https://localhost:8080/"
        },
        "id": "5xRd6uEXyCmB",
        "outputId": "36e8afde-56a3-4b1e-a861-1855fd903ec7"
      },
      "execution_count": 7,
      "outputs": [
        {
          "output_type": "stream",
          "name": "stdout",
          "text": [
            "Hello\tWorld!\n"
          ]
        }
      ]
    },
    {
      "cell_type": "code",
      "source": [
        "n=\"\\\"Antony\\\" Sharon\""
      ],
      "metadata": {
        "id": "dKMGOZxEykHj"
      },
      "execution_count": 8,
      "outputs": []
    },
    {
      "cell_type": "code",
      "source": [
        "print(n)"
      ],
      "metadata": {
        "colab": {
          "base_uri": "https://localhost:8080/"
        },
        "id": "7jiBoeZ9ztkE",
        "outputId": "50b9cfc6-79a0-4458-b78c-522adcbe1371"
      },
      "execution_count": 9,
      "outputs": [
        {
          "output_type": "stream",
          "name": "stdout",
          "text": [
            "\"Antony\" Sharon\n"
          ]
        }
      ]
    },
    {
      "cell_type": "code",
      "source": [
        "x='He\\'s a doctor'\n",
        "print(x)"
      ],
      "metadata": {
        "colab": {
          "base_uri": "https://localhost:8080/"
        },
        "id": "za5Iti9-zvD8",
        "outputId": "bea66c08-36e3-450b-abde-f984eafe1b0b"
      },
      "execution_count": 10,
      "outputs": [
        {
          "output_type": "stream",
          "name": "stdout",
          "text": [
            "He's a doctor\n"
          ]
        }
      ]
    },
    {
      "cell_type": "code",
      "source": [
        "x=\"Antony \\nSharon\""
      ],
      "metadata": {
        "id": "LWUzIK250W6l"
      },
      "execution_count": 15,
      "outputs": []
    },
    {
      "cell_type": "code",
      "source": [
        "print(x)"
      ],
      "metadata": {
        "colab": {
          "base_uri": "https://localhost:8080/"
        },
        "id": "23hH8ztW1IR2",
        "outputId": "2620f152-7451-4e06-9c49-d0485d5e3161"
      },
      "execution_count": 16,
      "outputs": [
        {
          "output_type": "stream",
          "name": "stdout",
          "text": [
            "Antony \n",
            "Sharon\n"
          ]
        }
      ]
    },
    {
      "cell_type": "code",
      "source": [
        "x=\"10\"\n",
        "x.isalnum()"
      ],
      "metadata": {
        "colab": {
          "base_uri": "https://localhost:8080/"
        },
        "id": "nTUj7FPi1J0-",
        "outputId": "ef6cfb9b-c81b-4dc7-b2ba-7c5ea5306f0c"
      },
      "execution_count": 28,
      "outputs": [
        {
          "output_type": "execute_result",
          "data": {
            "text/plain": [
              "True"
            ]
          },
          "metadata": {},
          "execution_count": 28
        }
      ]
    },
    {
      "cell_type": "code",
      "source": [
        "x=[\"John\",\"Mary\",\"David\",\"Adam\"]\n",
        "i=int(input(\"Enter the index no. :\"))\n",
        "n=input(\"Enter tthe name to be inserted: \")\n",
        "x.insert(i,n)\n",
        "print(x)"
      ],
      "metadata": {
        "colab": {
          "base_uri": "https://localhost:8080/"
        },
        "id": "5kLUD1M9121G",
        "outputId": "ee2dd0d7-9749-40f8-b8a6-8331c17d2424"
      },
      "execution_count": 29,
      "outputs": [
        {
          "output_type": "stream",
          "name": "stdout",
          "text": [
            "Enter the index no. :4\n",
            "Enter tthe name to be inserted: Joe\n",
            "['John', 'Mary', 'David', 'Adam', 'Joe']\n"
          ]
        }
      ]
    },
    {
      "cell_type": "code",
      "source": [
        "def anto():\n",
        "  i=int(input(\"Enter the index no. :\"))\n",
        "  n=input(\"Enter tthe name to be inserted: \")\n",
        "  x.insert(i,n)\n",
        "  print(x)\n",
        "anto()\n"
      ],
      "metadata": {
        "colab": {
          "base_uri": "https://localhost:8080/"
        },
        "id": "7-MUeU3W35d2",
        "outputId": "abc230e8-860b-4188-81a5-c9c3b45e5e14"
      },
      "execution_count": 30,
      "outputs": [
        {
          "output_type": "stream",
          "name": "stdout",
          "text": [
            "Enter the index no. :5\n",
            "Enter tthe name to be inserted: Jes\n",
            "['John', 'Mary', 'David', 'Adam', 'Joe', 'Jes']\n"
          ]
        }
      ]
    },
    {
      "cell_type": "code",
      "source": [
        "def calc():\n",
        "  x=int(input(\"Enter one no.: \"))\n",
        "  y=int(input(\"Enter another no.: \"))\n",
        "  sum=x+y\n",
        "  diff=x-y\n",
        "  div=x/y\n",
        "  prod=x*y\n",
        "  print(\"Sum is :\",sum)\n",
        "  print(\"Difference is :\",diff)\n",
        "  print(\"Quotient is :\",div)\n",
        "  print(\"Product is :\",prod)\n",
        "calc()"
      ],
      "metadata": {
        "colab": {
          "base_uri": "https://localhost:8080/"
        },
        "id": "Z_V8KarX-eoS",
        "outputId": "b3df16b4-3ea2-44e9-b6ad-70d9136df040"
      },
      "execution_count": 38,
      "outputs": [
        {
          "output_type": "stream",
          "name": "stdout",
          "text": [
            "Enter one no.: 10\n",
            "Enter another no.: 5\n",
            "Sum is : 15\n",
            "Difference is : 5\n",
            "Quotient is : 2.0\n",
            "Product is : 50\n"
          ]
        }
      ]
    },
    {
      "cell_type": "code",
      "source": [
        "def maths(x,y):\n",
        "  sum=x+y\n",
        "  diff=x-y\n",
        "  div=x/y\n",
        "  prod=x*y\n",
        "  print(\"Sum is :\",sum)\n",
        "  print(\"Difference is :\",diff)\n",
        "  print(\"Quotient is :\",div)\n",
        "  print(\"Product is :\",prod)"
      ],
      "metadata": {
        "id": "xgGurauMDFMF"
      },
      "execution_count": 40,
      "outputs": []
    },
    {
      "cell_type": "code",
      "source": [
        "x=int(input(\"Enter one no.: \"))\n",
        "y=int(input(\"Enter another no.: \"))\n",
        "maths(x,y)"
      ],
      "metadata": {
        "colab": {
          "base_uri": "https://localhost:8080/"
        },
        "id": "Uckc5OQLEOE8",
        "outputId": "ec01c232-1576-4b8b-d07b-d8cd5f9287a9"
      },
      "execution_count": 41,
      "outputs": [
        {
          "output_type": "stream",
          "name": "stdout",
          "text": [
            "Enter one no.: 10\n",
            "Enter another no.: 5\n",
            "Sum is : 15\n",
            "Difference is : 5\n",
            "Quotient is : 2.0\n",
            "Product is : 50\n"
          ]
        }
      ]
    },
    {
      "cell_type": "code",
      "source": [
        "def add(x,y):\n",
        "  sum=x+y\n",
        "  print(\"Sum is :\",sum)\n",
        "\n",
        "def sub(x,y):\n",
        "  diff=x-y\n",
        "  print(\"Difference is :\",diff)\n",
        "\n",
        "def div(x,y):\n",
        "  div=x/y\n",
        "  print(\"Quotient is :\",div)\n",
        "\n",
        "def prod(x,y):\n",
        "  prod=x*y\n",
        "  print(\"Product is :\",prod)\n",
        "\n",
        "x=int(input(\"Enter one no.: \"))\n",
        "y=int(input(\"Enter another no.: \"))\n",
        "sub(x,y)\n",
        "add(x,y)\n",
        "prod(x,y)\n",
        "div(x,y)"
      ],
      "metadata": {
        "colab": {
          "base_uri": "https://localhost:8080/"
        },
        "id": "4fxLFKRfEaXG",
        "outputId": "9159f9a0-57e0-4eba-d0d8-6cb62a90cf5b"
      },
      "execution_count": 43,
      "outputs": [
        {
          "output_type": "stream",
          "name": "stdout",
          "text": [
            "Enter one no.: 10\n",
            "Enter another no.: 50\n",
            "Difference is : -40\n",
            "Sum is : 60\n",
            "Product is : 500\n",
            "Quotient is : 0.2\n"
          ]
        }
      ]
    },
    {
      "cell_type": "code",
      "source": [],
      "metadata": {
        "id": "rOjcgSyrG139"
      },
      "execution_count": null,
      "outputs": []
    }
  ]
}