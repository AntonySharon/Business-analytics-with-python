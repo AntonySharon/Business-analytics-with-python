{
  "nbformat": 4,
  "nbformat_minor": 0,
  "metadata": {
    "colab": {
      "provenance": [],
      "authorship_tag": "ABX9TyPuxiNes2ofUAjyQ9OkHULh",
      "include_colab_link": true
    },
    "kernelspec": {
      "name": "python3",
      "display_name": "Python 3"
    },
    "language_info": {
      "name": "python"
    }
  },
  "cells": [
    {
      "cell_type": "markdown",
      "metadata": {
        "id": "view-in-github",
        "colab_type": "text"
      },
      "source": [
        "<a href=\"https://colab.research.google.com/github/AntonySharon/Business-analytics-with-python/blob/main/python_revision_(23_01_2023).ipynb\" target=\"_parent\"><img src=\"https://colab.research.google.com/assets/colab-badge.svg\" alt=\"Open In Colab\"/></a>"
      ]
    },
    {
      "cell_type": "code",
      "execution_count": 1,
      "metadata": {
        "colab": {
          "base_uri": "https://localhost:8080/"
        },
        "id": "YLGDuSLusvKw",
        "outputId": "b3d432dc-9eb4-4fa5-9d7a-65eb2671c57d"
      },
      "outputs": [
        {
          "output_type": "execute_result",
          "data": {
            "text/plain": [
              "13"
            ]
          },
          "metadata": {},
          "execution_count": 1
        }
      ],
      "source": [
        "x=\"Antony Sharon\"\n",
        "len(x)\n"
      ]
    },
    {
      "cell_type": "code",
      "source": [
        "x=[\"Antony\",\"Jano\",\"Kevin\",\"Jithin\"]\n",
        "print(x)\n",
        "type(x)"
      ],
      "metadata": {
        "colab": {
          "base_uri": "https://localhost:8080/"
        },
        "id": "mYDE9ZHrvCNB",
        "outputId": "0b900df3-d944-4dcf-a6a7-91c4db622e97"
      },
      "execution_count": 4,
      "outputs": [
        {
          "output_type": "stream",
          "name": "stdout",
          "text": [
            "['Antony', 'Jano', 'Kevin', 'Jithin']\n"
          ]
        },
        {
          "output_type": "execute_result",
          "data": {
            "text/plain": [
              "list"
            ]
          },
          "metadata": {},
          "execution_count": 4
        }
      ]
    },
    {
      "cell_type": "code",
      "source": [
        "x=[9059,\"Antony\",19,\"13-06-2003\",\"Kochi\"]\n",
        "print(x)\n",
        "type(x)"
      ],
      "metadata": {
        "colab": {
          "base_uri": "https://localhost:8080/"
        },
        "id": "w1twbFThviFm",
        "outputId": "2e920f3b-79e3-4244-9d04-6d9efe6109c1"
      },
      "execution_count": 6,
      "outputs": [
        {
          "output_type": "stream",
          "name": "stdout",
          "text": [
            "[9059, 'Antony', 19, '13-06-2003', 'Kochi']\n"
          ]
        },
        {
          "output_type": "execute_result",
          "data": {
            "text/plain": [
              "list"
            ]
          },
          "metadata": {},
          "execution_count": 6
        }
      ]
    },
    {
      "cell_type": "code",
      "source": [
        "print(x[0])"
      ],
      "metadata": {
        "colab": {
          "base_uri": "https://localhost:8080/"
        },
        "id": "KuCWzGoVwShQ",
        "outputId": "bf2a2937-a777-4b56-b5a5-b9532d8d7597"
      },
      "execution_count": 7,
      "outputs": [
        {
          "output_type": "stream",
          "name": "stdout",
          "text": [
            "9059\n"
          ]
        }
      ]
    },
    {
      "cell_type": "code",
      "source": [
        "print(x[-1])"
      ],
      "metadata": {
        "colab": {
          "base_uri": "https://localhost:8080/"
        },
        "id": "JM7B29IHw0UD",
        "outputId": "55998420-9cdf-4172-b2fe-a564e6b4416c"
      },
      "execution_count": 8,
      "outputs": [
        {
          "output_type": "stream",
          "name": "stdout",
          "text": [
            "Kochi\n"
          ]
        }
      ]
    },
    {
      "cell_type": "code",
      "source": [
        "a=[1,2,3,4,5,6,7,8,9,10]\n",
        "print(a[-3:])"
      ],
      "metadata": {
        "colab": {
          "base_uri": "https://localhost:8080/"
        },
        "id": "ShDNQX4exPo7",
        "outputId": "8b363f0a-74f1-4dd9-9b04-e2541c10f93f"
      },
      "execution_count": 22,
      "outputs": [
        {
          "output_type": "stream",
          "name": "stdout",
          "text": [
            "[8, 9, 10]\n"
          ]
        }
      ]
    },
    {
      "cell_type": "code",
      "source": [
        "a[-5:-3]"
      ],
      "metadata": {
        "colab": {
          "base_uri": "https://localhost:8080/"
        },
        "id": "oMce4mTgyVWI",
        "outputId": "fe37af24-f845-4f1f-9794-dfcb0504a60e"
      },
      "execution_count": 25,
      "outputs": [
        {
          "output_type": "execute_result",
          "data": {
            "text/plain": [
              "[6, 7]"
            ]
          },
          "metadata": {},
          "execution_count": 25
        }
      ]
    },
    {
      "cell_type": "code",
      "source": [
        "x=[1,2,3,4,5,6,7,8,9,10]\n",
        "x[0]=11"
      ],
      "metadata": {
        "id": "1js-mf0I0eZr"
      },
      "execution_count": 26,
      "outputs": []
    },
    {
      "cell_type": "code",
      "source": [
        "x"
      ],
      "metadata": {
        "colab": {
          "base_uri": "https://localhost:8080/"
        },
        "id": "0FXq4coj0xwp",
        "outputId": "728b8542-3b1f-4c95-d929-46756b2bd657"
      },
      "execution_count": 27,
      "outputs": [
        {
          "output_type": "execute_result",
          "data": {
            "text/plain": [
              "[11, 2, 3, 4, 5, 6, 7, 8, 9, 10]"
            ]
          },
          "metadata": {},
          "execution_count": 27
        }
      ]
    },
    {
      "cell_type": "code",
      "source": [
        "x=[9059,\"Antony\",19,\"13-06-2003\",\"Kochi\"]\n",
        "x[4]=\"Rajagiri\""
      ],
      "metadata": {
        "id": "pnCa-ms202GR"
      },
      "execution_count": 31,
      "outputs": []
    },
    {
      "cell_type": "code",
      "source": [
        "x"
      ],
      "metadata": {
        "colab": {
          "base_uri": "https://localhost:8080/"
        },
        "id": "dOnQYbw61ZgI",
        "outputId": "4f821aa9-d49d-4e7c-c8c7-17c5bfac7097"
      },
      "execution_count": 32,
      "outputs": [
        {
          "output_type": "execute_result",
          "data": {
            "text/plain": [
              "[9059, 'Antony', 19, '13-06-2003', 'Rajagiri']"
            ]
          },
          "metadata": {},
          "execution_count": 32
        }
      ]
    },
    {
      "cell_type": "code",
      "source": [
        "x=[1,2,3]\n",
        "x.append(99)"
      ],
      "metadata": {
        "id": "4BkLPt2u1aHG"
      },
      "execution_count": 34,
      "outputs": []
    },
    {
      "cell_type": "code",
      "source": [
        "x"
      ],
      "metadata": {
        "colab": {
          "base_uri": "https://localhost:8080/"
        },
        "id": "B9NmPQX03ZXd",
        "outputId": "1af07a44-bc83-420c-b60c-fd3b367a1275"
      },
      "execution_count": 35,
      "outputs": [
        {
          "output_type": "execute_result",
          "data": {
            "text/plain": [
              "[1, 2, 3, 99]"
            ]
          },
          "metadata": {},
          "execution_count": 35
        }
      ]
    },
    {
      "cell_type": "code",
      "source": [
        "x=[]\n",
        "for i in range(4):\n",
        "  name=input(\"Enter your Name: \")\n",
        "  x.append(name)\n",
        "print(x)\n"
      ],
      "metadata": {
        "colab": {
          "base_uri": "https://localhost:8080/"
        },
        "id": "Ysjgejnz3cV9",
        "outputId": "a03c9609-3967-46c8-9283-862f8d4bf94d"
      },
      "execution_count": 40,
      "outputs": [
        {
          "output_type": "stream",
          "name": "stdout",
          "text": [
            "Enter your Name: Antony\n",
            "Enter your Name: Kevin\n",
            "Enter your Name: Jano\n",
            "Enter your Name: Joe\n",
            "['Antony', 'Kevin', 'Jano', 'Joe']\n"
          ]
        }
      ]
    },
    {
      "cell_type": "code",
      "source": [
        "s=input(\"Enter a name: \")\n",
        "y=[]\n",
        "y.append(s)\n",
        "for i in range(3):\n",
        "  s=input(\"Enter another name: \")\n",
        "  y.append(s)\n",
        "print(y)"
      ],
      "metadata": {
        "colab": {
          "base_uri": "https://localhost:8080/"
        },
        "id": "BJkUqsPx5-rL",
        "outputId": "ec724e38-2800-4840-b1a2-233db64541b8"
      },
      "execution_count": 43,
      "outputs": [
        {
          "output_type": "stream",
          "name": "stdout",
          "text": [
            "Enter a name: Antony\n",
            "Enter another name: Sharon\n",
            "Enter another name: Kevin\n",
            "Enter another name: Joe\n",
            "['Antony', 'Sharon', 'Kevin', 'Joe']\n"
          ]
        }
      ]
    },
    {
      "cell_type": "code",
      "source": [
        "s=input(\"Enter a name: \")\n",
        "y=[]\n",
        "y.append(s)\n",
        "i=0\n",
        "while i<3:\n",
        "  s=input(\"Enter another name: \")\n",
        "  y.append(s)\n",
        "  i+=1\n",
        "print(y)"
      ],
      "metadata": {
        "colab": {
          "base_uri": "https://localhost:8080/"
        },
        "id": "gW3Kb24X4tW1",
        "outputId": "22714c9a-6da2-440e-8223-7d765dba242a"
      },
      "execution_count": 44,
      "outputs": [
        {
          "output_type": "stream",
          "name": "stdout",
          "text": [
            "Enter a name: Antony\n",
            "Enter another name: Sharon\n",
            "Enter another name: Alvin\n",
            "Enter another name: Joe\n",
            "['Antony', 'Sharon', 'Alvin', 'Joe']\n"
          ]
        }
      ]
    },
    {
      "cell_type": "code",
      "source": [
        "s=input(\"Enter First name: \")\n",
        "y=[]\n",
        "y.append(s)\n",
        "for i in range(3):\n",
        "  if i==0:\n",
        "    s=input(\"Enter Second name: \")\n",
        "    y.append(s)\n",
        "  elif i==1:\n",
        "    s=input(\"Enter Third name: \")\n",
        "    y.append(s)\n",
        "  elif i==2:\n",
        "    s=input(\"Enter Fourth  name: \")\n",
        "    y.append(s)\n",
        "print(y)"
      ],
      "metadata": {
        "colab": {
          "base_uri": "https://localhost:8080/"
        },
        "id": "XDJPhaDy5qA_",
        "outputId": "45aa169e-2b0a-4cdc-ac45-d8846d06fd3a"
      },
      "execution_count": 47,
      "outputs": [
        {
          "output_type": "stream",
          "name": "stdout",
          "text": [
            "Enter First name: Antony\n",
            "Enter Second name: Sharon\n",
            "Enter Third name: Joe\n",
            "Enter Fourth  name: Jano\n",
            "['Antony', 'Sharon', 'Joe', 'Jano']\n"
          ]
        }
      ]
    },
    {
      "cell_type": "code",
      "source": [
        "x=[1,2,3,4,5]\n",
        "y=x.copy()\n",
        "y"
      ],
      "metadata": {
        "colab": {
          "base_uri": "https://localhost:8080/"
        },
        "id": "d3WWnDx68qaK",
        "outputId": "165320f7-69d8-488f-f001-5e5d6c7efea4"
      },
      "execution_count": 48,
      "outputs": [
        {
          "output_type": "execute_result",
          "data": {
            "text/plain": [
              "[1, 2, 3, 4, 5]"
            ]
          },
          "metadata": {},
          "execution_count": 48
        }
      ]
    },
    {
      "cell_type": "code",
      "source": [
        "x=[\"John\",\"Mary\",\"David\",\"Adam\"]\n",
        "y=[\"A\",\"B\",\"C\"]\n",
        "x.extend(y)"
      ],
      "metadata": {
        "id": "8HSSzgCG9LjY"
      },
      "execution_count": 49,
      "outputs": []
    },
    {
      "cell_type": "code",
      "source": [
        "x"
      ],
      "metadata": {
        "colab": {
          "base_uri": "https://localhost:8080/"
        },
        "id": "_KcAr91R-XZf",
        "outputId": "2efbc98b-5c44-44da-a6a7-5773719a3f48"
      },
      "execution_count": 50,
      "outputs": [
        {
          "output_type": "execute_result",
          "data": {
            "text/plain": [
              "['John', 'Mary', 'David', 'Adam', 'A', 'B', 'C']"
            ]
          },
          "metadata": {},
          "execution_count": 50
        }
      ]
    },
    {
      "cell_type": "code",
      "source": [
        "y"
      ],
      "metadata": {
        "colab": {
          "base_uri": "https://localhost:8080/"
        },
        "id": "4pbOZ_Oj-X8P",
        "outputId": "1c0d9451-441a-4afa-a91a-2e2169b2a3dc"
      },
      "execution_count": 51,
      "outputs": [
        {
          "output_type": "execute_result",
          "data": {
            "text/plain": [
              "['A', 'B', 'C']"
            ]
          },
          "metadata": {},
          "execution_count": 51
        }
      ]
    },
    {
      "cell_type": "code",
      "source": [
        "x=[\"abc\",1,2,3,4,5,5,6,4,5,3]\n",
        "x.count(5)"
      ],
      "metadata": {
        "colab": {
          "base_uri": "https://localhost:8080/"
        },
        "id": "RIDIgKiv-Y8X",
        "outputId": "d4dc927a-166a-40bc-e84e-d569c3381189"
      },
      "execution_count": 53,
      "outputs": [
        {
          "output_type": "execute_result",
          "data": {
            "text/plain": [
              "3"
            ]
          },
          "metadata": {},
          "execution_count": 53
        }
      ]
    },
    {
      "cell_type": "code",
      "source": [
        "x=[\"John\",\"Mary\",\"David\",\"Adam\"]\n",
        "x[1:3]=[\"Joe\",\"Jano\"]\n",
        "print(x)"
      ],
      "metadata": {
        "colab": {
          "base_uri": "https://localhost:8080/"
        },
        "id": "9yKyHgz6_ZQA",
        "outputId": "b6980155-8c90-4044-d80d-ed89ca2f5646"
      },
      "execution_count": 55,
      "outputs": [
        {
          "output_type": "stream",
          "name": "stdout",
          "text": [
            "['John', 'Joe', 'Jano', 'Adam']\n"
          ]
        }
      ]
    },
    {
      "cell_type": "code",
      "source": [
        "x=[\"John\",\"Mary\",\"David\",\"Adam\"]\n",
        "x.insert(2,\"James\")\n",
        "print(x)"
      ],
      "metadata": {
        "colab": {
          "base_uri": "https://localhost:8080/"
        },
        "id": "qCzM42UsAEAU",
        "outputId": "d2f21d5a-62d6-443f-b877-1f7da0822a02"
      },
      "execution_count": 56,
      "outputs": [
        {
          "output_type": "stream",
          "name": "stdout",
          "text": [
            "['John', 'Mary', 'James', 'David', 'Adam']\n"
          ]
        }
      ]
    },
    {
      "cell_type": "code",
      "source": [
        "x=['John', 'Mary', 'James', 'David', 'Adam']\n",
        "x.remove(\"John\")\n",
        "print(x)"
      ],
      "metadata": {
        "colab": {
          "base_uri": "https://localhost:8080/"
        },
        "id": "K07O6esdBHmw",
        "outputId": "0eba095b-f91a-43c7-bb09-9d635207ef84"
      },
      "execution_count": 60,
      "outputs": [
        {
          "output_type": "stream",
          "name": "stdout",
          "text": [
            "['Mary', 'James', 'David', 'Adam']\n"
          ]
        }
      ]
    },
    {
      "cell_type": "code",
      "source": [
        "x=['John', 'Mary', 'James', 'David', 'Adam']\n",
        "del x[0:2]\n",
        "x"
      ],
      "metadata": {
        "colab": {
          "base_uri": "https://localhost:8080/"
        },
        "id": "Z2FIK6sTDWZ5",
        "outputId": "33594681-e388-4d5f-cdac-4ee954931df9"
      },
      "execution_count": 64,
      "outputs": [
        {
          "output_type": "execute_result",
          "data": {
            "text/plain": [
              "['James', 'David', 'Adam']"
            ]
          },
          "metadata": {},
          "execution_count": 64
        }
      ]
    },
    {
      "cell_type": "code",
      "source": [],
      "metadata": {
        "id": "biujYqoXDqYz"
      },
      "execution_count": null,
      "outputs": []
    }
  ]
}